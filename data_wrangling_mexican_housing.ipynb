{
 "cells": [
  {
   "cell_type": "markdown",
   "id": "09997b31-e14d-4d7d-9823-eea09fbc9293",
   "metadata": {},
   "source": [
    "## 1. Import Necessary Libraries\n",
    "<div style=\"text-align: center;\">\n",
    "    <img src=\"mexican_house_1.jpg\" alt=\"mexican-house_1\" style=\"width: 60%; height: auto;\">\n",
    "</div>"
   ]
  },
  {
   "cell_type": "code",
   "execution_count": 1,
   "id": "e54e338a-0cff-4c3d-845e-1376bab8ea12",
   "metadata": {},
   "outputs": [],
   "source": [
    "import pandas as pd"
   ]
  },
  {
   "cell_type": "markdown",
   "id": "eb2be439-06e3-447c-95ed-6bf87ce13bb1",
   "metadata": {},
   "source": [
    "## 2. Load The Data"
   ]
  },
  {
   "cell_type": "code",
   "execution_count": 2,
   "id": "7f710a93-8184-4252-bef6-8cd1c491d7c6",
   "metadata": {},
   "outputs": [
    {
     "name": "stdout",
     "output_type": "stream",
     "text": [
      "df1 shape: (700, 6)\n",
      "\n",
      "df2 shape: (700, 6)\n",
      "\n",
      "df3 shape: (700, 5)\n",
      "\n"
     ]
    }
   ],
   "source": [
    "df1 = pd.read_csv(\"data/mexico-real-estate-1.csv\", encoding='ISO-8859-1')\n",
    "df2 = pd.read_csv(\"data/mexico-real-estate-2.csv\", encoding='ISO-8859-1')\n",
    "df3 = pd.read_csv(\"data/mexico-real-estate-3.csv\", encoding='ISO-8859-1')\n",
    "\n",
    "print(f'df1 shape: {df1.shape}\\n')\n",
    "print(f'df2 shape: {df2.shape}\\n')\n",
    "print(f'df3 shape: {df3.shape}\\n')"
   ]
  },
  {
   "cell_type": "markdown",
   "id": "278237aa-8949-4f9e-ae02-51d4f11cb5b1",
   "metadata": {},
   "source": [
    "## 3. Cleaning Process"
   ]
  },
  {
   "cell_type": "markdown",
   "id": "42fb4bc1-7cda-4bbf-ac19-d47982f5ac06",
   "metadata": {},
   "source": [
    "### a. Clean `df1`"
   ]
  },
  {
   "cell_type": "markdown",
   "id": "7c3c76a0-606a-4caf-9b3a-2559a20a0b72",
   "metadata": {},
   "source": [
    "Let's first inspect the `df1` by using the `info()` method to see the data types and number of missing values for each column, and the `head` method to view the first few rows."
   ]
  },
  {
   "cell_type": "code",
   "execution_count": 3,
   "id": "a4696c77-0002-47a5-8850-1815f7568c94",
   "metadata": {},
   "outputs": [
    {
     "name": "stdout",
     "output_type": "stream",
     "text": [
      "<class 'pandas.core.frame.DataFrame'>\n",
      "RangeIndex: 700 entries, 0 to 699\n",
      "Data columns (total 6 columns):\n",
      " #   Column         Non-Null Count  Dtype  \n",
      "---  ------         --------------  -----  \n",
      " 0   property_type  700 non-null    object \n",
      " 1   state          700 non-null    object \n",
      " 2   lat            583 non-null    float64\n",
      " 3   lon            583 non-null    float64\n",
      " 4   area_m2        700 non-null    int64  \n",
      " 5   price_usd      700 non-null    object \n",
      "dtypes: float64(2), int64(1), object(3)\n",
      "memory usage: 32.9+ KB\n",
      "None\n",
      "\n",
      "\n"
     ]
    },
    {
     "data": {
      "text/html": [
       "<div>\n",
       "<style scoped>\n",
       "    .dataframe tbody tr th:only-of-type {\n",
       "        vertical-align: middle;\n",
       "    }\n",
       "\n",
       "    .dataframe tbody tr th {\n",
       "        vertical-align: top;\n",
       "    }\n",
       "\n",
       "    .dataframe thead th {\n",
       "        text-align: right;\n",
       "    }\n",
       "</style>\n",
       "<table border=\"1\" class=\"dataframe\">\n",
       "  <thead>\n",
       "    <tr style=\"text-align: right;\">\n",
       "      <th></th>\n",
       "      <th>property_type</th>\n",
       "      <th>state</th>\n",
       "      <th>lat</th>\n",
       "      <th>lon</th>\n",
       "      <th>area_m2</th>\n",
       "      <th>price_usd</th>\n",
       "    </tr>\n",
       "  </thead>\n",
       "  <tbody>\n",
       "    <tr>\n",
       "      <th>0</th>\n",
       "      <td>house</td>\n",
       "      <td>Estado de México</td>\n",
       "      <td>19.560181</td>\n",
       "      <td>-99.233528</td>\n",
       "      <td>150</td>\n",
       "      <td>$67,965.56</td>\n",
       "    </tr>\n",
       "    <tr>\n",
       "      <th>1</th>\n",
       "      <td>house</td>\n",
       "      <td>Nuevo León</td>\n",
       "      <td>25.688436</td>\n",
       "      <td>-100.198807</td>\n",
       "      <td>186</td>\n",
       "      <td>$63,223.78</td>\n",
       "    </tr>\n",
       "    <tr>\n",
       "      <th>2</th>\n",
       "      <td>apartment</td>\n",
       "      <td>Guerrero</td>\n",
       "      <td>16.767704</td>\n",
       "      <td>-99.764383</td>\n",
       "      <td>82</td>\n",
       "      <td>$84,298.37</td>\n",
       "    </tr>\n",
       "    <tr>\n",
       "      <th>3</th>\n",
       "      <td>apartment</td>\n",
       "      <td>Guerrero</td>\n",
       "      <td>16.829782</td>\n",
       "      <td>-99.911012</td>\n",
       "      <td>150</td>\n",
       "      <td>$94,308.80</td>\n",
       "    </tr>\n",
       "    <tr>\n",
       "      <th>4</th>\n",
       "      <td>house</td>\n",
       "      <td>Veracruz de Ignacio de la Llave</td>\n",
       "      <td>NaN</td>\n",
       "      <td>NaN</td>\n",
       "      <td>175</td>\n",
       "      <td>$94,835.67</td>\n",
       "    </tr>\n",
       "  </tbody>\n",
       "</table>\n",
       "</div>"
      ],
      "text/plain": [
       "  property_type                            state        lat         lon  \\\n",
       "0         house                 Estado de México  19.560181  -99.233528   \n",
       "1         house                       Nuevo León  25.688436 -100.198807   \n",
       "2     apartment                         Guerrero  16.767704  -99.764383   \n",
       "3     apartment                         Guerrero  16.829782  -99.911012   \n",
       "4         house  Veracruz de Ignacio de la Llave        NaN         NaN   \n",
       "\n",
       "   area_m2    price_usd  \n",
       "0      150  $67,965.56   \n",
       "1      186  $63,223.78   \n",
       "2       82  $84,298.37   \n",
       "3      150  $94,308.80   \n",
       "4      175  $94,835.67   "
      ]
     },
     "execution_count": 3,
     "metadata": {},
     "output_type": "execute_result"
    }
   ],
   "source": [
    "# Print the info regarding the df1\n",
    "print(df1.info())\n",
    "print(\"\\n\")\n",
    "\n",
    "# Print the first few rows\n",
    "df1.head()"
   ]
  },
  {
   "cell_type": "markdown",
   "id": "7ae77eaa-74cc-4008-972a-9de4e07827f4",
   "metadata": {},
   "source": [
    "**Drop NaN Values** in the `df1`"
   ]
  },
  {
   "cell_type": "code",
   "execution_count": 4,
   "id": "068b6632-9752-4222-8f7a-bfdd86119a8a",
   "metadata": {},
   "outputs": [
    {
     "name": "stdout",
     "output_type": "stream",
     "text": [
      "<class 'pandas.core.frame.DataFrame'>\n",
      "RangeIndex: 583 entries, 0 to 582\n",
      "Data columns (total 6 columns):\n",
      " #   Column         Non-Null Count  Dtype  \n",
      "---  ------         --------------  -----  \n",
      " 0   property_type  583 non-null    object \n",
      " 1   state          583 non-null    object \n",
      " 2   lat            583 non-null    float64\n",
      " 3   lon            583 non-null    float64\n",
      " 4   area_m2        583 non-null    int64  \n",
      " 5   price_usd      583 non-null    object \n",
      "dtypes: float64(2), int64(1), object(3)\n",
      "memory usage: 27.5+ KB\n",
      "None\n",
      "\n",
      "Number of dropped rows from the df1 = 117 rows \n",
      "\n"
     ]
    }
   ],
   "source": [
    "# Copy df1\n",
    "df1_new = df1.copy()\n",
    "\n",
    "# Drop NaN Values\n",
    "df1_new.dropna(inplace=True)\n",
    "\n",
    "# Reset index\n",
    "df1_new.reset_index(drop=True, inplace=True)\n",
    "\n",
    "# Check Null values in the dataframe\n",
    "print(f'{df1_new.info()}\\n')\n",
    "\n",
    "# Number of dropped rows in the \"df1\"\n",
    "df1_length = len(df1)\n",
    "new_df1_length = len(df1_new)\n",
    "print(f'Number of dropped rows from the df1 = {df1_length - new_df1_length} rows \\n')"
   ]
  },
  {
   "cell_type": "code",
   "execution_count": 5,
   "id": "6f7e88fd-bbc5-46e4-8c9f-a564451a461c",
   "metadata": {},
   "outputs": [
    {
     "data": {
      "text/plain": [
       "0     $67,965.56 \n",
       "1     $63,223.78 \n",
       "2     $84,298.37 \n",
       "3     $94,308.80 \n",
       "4    $105,191.37 \n",
       "Name: price_usd, dtype: object"
      ]
     },
     "execution_count": 5,
     "metadata": {},
     "output_type": "execute_result"
    }
   ],
   "source": [
    "# View first few rows of \"price_usd\"\n",
    "df1_new[\"price_usd\"].head()"
   ]
  },
  {
   "cell_type": "markdown",
   "id": "16482085-0f5c-4c1f-a4e7-42348c0479ba",
   "metadata": {},
   "source": [
    "**Remove** the `\"$\"` and `\",\"` characters from `\"price_usd\"` then **recast** the values in the column as floats."
   ]
  },
  {
   "cell_type": "code",
   "execution_count": 6,
   "id": "22895ef6-7271-4036-990d-5c32c5077300",
   "metadata": {},
   "outputs": [
    {
     "name": "stdout",
     "output_type": "stream",
     "text": [
      "<class 'pandas.core.frame.DataFrame'>\n",
      "RangeIndex: 583 entries, 0 to 582\n",
      "Data columns (total 6 columns):\n",
      " #   Column         Non-Null Count  Dtype  \n",
      "---  ------         --------------  -----  \n",
      " 0   property_type  583 non-null    object \n",
      " 1   state          583 non-null    object \n",
      " 2   lat            583 non-null    float64\n",
      " 3   lon            583 non-null    float64\n",
      " 4   area_m2        583 non-null    int64  \n",
      " 5   price_usd      583 non-null    float64\n",
      "dtypes: float64(3), int64(1), object(2)\n",
      "memory usage: 27.5+ KB\n",
      "None\n"
     ]
    },
    {
     "data": {
      "text/html": [
       "<div>\n",
       "<style scoped>\n",
       "    .dataframe tbody tr th:only-of-type {\n",
       "        vertical-align: middle;\n",
       "    }\n",
       "\n",
       "    .dataframe tbody tr th {\n",
       "        vertical-align: top;\n",
       "    }\n",
       "\n",
       "    .dataframe thead th {\n",
       "        text-align: right;\n",
       "    }\n",
       "</style>\n",
       "<table border=\"1\" class=\"dataframe\">\n",
       "  <thead>\n",
       "    <tr style=\"text-align: right;\">\n",
       "      <th></th>\n",
       "      <th>property_type</th>\n",
       "      <th>state</th>\n",
       "      <th>lat</th>\n",
       "      <th>lon</th>\n",
       "      <th>area_m2</th>\n",
       "      <th>price_usd</th>\n",
       "    </tr>\n",
       "  </thead>\n",
       "  <tbody>\n",
       "    <tr>\n",
       "      <th>0</th>\n",
       "      <td>house</td>\n",
       "      <td>Estado de México</td>\n",
       "      <td>19.560181</td>\n",
       "      <td>-99.233528</td>\n",
       "      <td>150</td>\n",
       "      <td>67965.56</td>\n",
       "    </tr>\n",
       "    <tr>\n",
       "      <th>1</th>\n",
       "      <td>house</td>\n",
       "      <td>Nuevo León</td>\n",
       "      <td>25.688436</td>\n",
       "      <td>-100.198807</td>\n",
       "      <td>186</td>\n",
       "      <td>63223.78</td>\n",
       "    </tr>\n",
       "    <tr>\n",
       "      <th>2</th>\n",
       "      <td>apartment</td>\n",
       "      <td>Guerrero</td>\n",
       "      <td>16.767704</td>\n",
       "      <td>-99.764383</td>\n",
       "      <td>82</td>\n",
       "      <td>84298.37</td>\n",
       "    </tr>\n",
       "    <tr>\n",
       "      <th>3</th>\n",
       "      <td>apartment</td>\n",
       "      <td>Guerrero</td>\n",
       "      <td>16.829782</td>\n",
       "      <td>-99.911012</td>\n",
       "      <td>150</td>\n",
       "      <td>94308.80</td>\n",
       "    </tr>\n",
       "    <tr>\n",
       "      <th>4</th>\n",
       "      <td>house</td>\n",
       "      <td>Yucatán</td>\n",
       "      <td>21.052583</td>\n",
       "      <td>-89.538639</td>\n",
       "      <td>205</td>\n",
       "      <td>105191.37</td>\n",
       "    </tr>\n",
       "  </tbody>\n",
       "</table>\n",
       "</div>"
      ],
      "text/plain": [
       "  property_type             state        lat         lon  area_m2  price_usd\n",
       "0         house  Estado de México  19.560181  -99.233528      150   67965.56\n",
       "1         house        Nuevo León  25.688436 -100.198807      186   63223.78\n",
       "2     apartment          Guerrero  16.767704  -99.764383       82   84298.37\n",
       "3     apartment          Guerrero  16.829782  -99.911012      150   94308.80\n",
       "4         house           Yucatán  21.052583  -89.538639      205  105191.37"
      ]
     },
     "execution_count": 6,
     "metadata": {},
     "output_type": "execute_result"
    }
   ],
   "source": [
    "# Clean \"price_usd\" column\n",
    "df1_new[\"price_usd\"] = (\n",
    "    df1_new[\"price_usd\"].\n",
    "    str.replace(\"$\", \"\", regex=False).\n",
    "    str.replace(\",\", \"\", regex=False).\n",
    "    astype(\"float\")\n",
    ")\n",
    "\n",
    "print(df1_new.info())\n",
    "df1_new.head()"
   ]
  },
  {
   "cell_type": "markdown",
   "id": "2a93ad7c-cd24-4c37-a409-9ec24ab1c0ea",
   "metadata": {},
   "source": [
    "---------------"
   ]
  },
  {
   "cell_type": "markdown",
   "id": "445200c6-e7db-4b2d-badf-4a8fab21f552",
   "metadata": {},
   "source": [
    "### b. Clean `df2`"
   ]
  },
  {
   "cell_type": "code",
   "execution_count": 7,
   "id": "d01cd23b-c0b4-4f3b-a9de-c0a8f28f741f",
   "metadata": {},
   "outputs": [
    {
     "name": "stdout",
     "output_type": "stream",
     "text": [
      "<class 'pandas.core.frame.DataFrame'>\n",
      "RangeIndex: 700 entries, 0 to 699\n",
      "Data columns (total 6 columns):\n",
      " #   Column         Non-Null Count  Dtype  \n",
      "---  ------         --------------  -----  \n",
      " 0   property_type  700 non-null    object \n",
      " 1   state          700 non-null    object \n",
      " 2   lat            571 non-null    float64\n",
      " 3   lon            571 non-null    float64\n",
      " 4   area_m2        700 non-null    int64  \n",
      " 5   price_mxn      700 non-null    int64  \n",
      "dtypes: float64(2), int64(2), object(2)\n",
      "memory usage: 32.9+ KB\n"
     ]
    }
   ],
   "source": [
    "df2.info()"
   ]
  },
  {
   "cell_type": "code",
   "execution_count": 8,
   "id": "7f913819-0778-4054-a127-a37ef770e85e",
   "metadata": {},
   "outputs": [
    {
     "name": "stdout",
     "output_type": "stream",
     "text": [
      "<class 'pandas.core.frame.DataFrame'>\n",
      "RangeIndex: 571 entries, 0 to 570\n",
      "Data columns (total 6 columns):\n",
      " #   Column         Non-Null Count  Dtype  \n",
      "---  ------         --------------  -----  \n",
      " 0   property_type  571 non-null    object \n",
      " 1   state          571 non-null    object \n",
      " 2   lat            571 non-null    float64\n",
      " 3   lon            571 non-null    float64\n",
      " 4   area_m2        571 non-null    int64  \n",
      " 5   price_mxn      571 non-null    int64  \n",
      "dtypes: float64(2), int64(2), object(2)\n",
      "memory usage: 26.9+ KB\n",
      "None\n",
      "Number of dropped rows from the df2 = 129 rows \n",
      "\n"
     ]
    }
   ],
   "source": [
    "# Copy df2\n",
    "df2_new = df2.copy()\n",
    "\n",
    "# Drop NaN Values\n",
    "df2_new.dropna(inplace=True)\n",
    "\n",
    "# reset index\n",
    "df2_new.reset_index(drop=True, inplace=True)\n",
    "\n",
    "# View info\n",
    "print(df2_new.info())\n",
    "\n",
    "# Number of dropped rows in the \"df1\"\n",
    "df2_length = len(df2)\n",
    "new_df2_length = len(df2_new)\n",
    "print(f'Number of dropped rows from the df2 = {df2_length - new_df2_length} rows \\n')"
   ]
  },
  {
   "cell_type": "markdown",
   "id": "7e7ecfc3-6af2-4769-be36-8a2038a83418",
   "metadata": {},
   "source": [
    "The home prices are in Mexican pesos (`\"price_mxn\"`), not US dollars (`\"price_usd\"`). If we want to compare all the home prices in this dataset, they all need to be in the same currency.\n",
    "Next, use the \"price_mxn\" column to create a new column named \"price_usd\". (Keep in mind that, when this data was collected in 2014, a dollar cost **19 pesos.**) Finally, drop the \"price_mxn\" from the DataFrame."
   ]
  },
  {
   "cell_type": "code",
   "execution_count": 9,
   "id": "18ec9d49-0a70-4a2d-81b9-12539971c79b",
   "metadata": {},
   "outputs": [
    {
     "data": {
      "text/html": [
       "<div>\n",
       "<style scoped>\n",
       "    .dataframe tbody tr th:only-of-type {\n",
       "        vertical-align: middle;\n",
       "    }\n",
       "\n",
       "    .dataframe tbody tr th {\n",
       "        vertical-align: top;\n",
       "    }\n",
       "\n",
       "    .dataframe thead th {\n",
       "        text-align: right;\n",
       "    }\n",
       "</style>\n",
       "<table border=\"1\" class=\"dataframe\">\n",
       "  <thead>\n",
       "    <tr style=\"text-align: right;\">\n",
       "      <th></th>\n",
       "      <th>property_type</th>\n",
       "      <th>state</th>\n",
       "      <th>lat</th>\n",
       "      <th>lon</th>\n",
       "      <th>area_m2</th>\n",
       "      <th>price_usd</th>\n",
       "    </tr>\n",
       "  </thead>\n",
       "  <tbody>\n",
       "    <tr>\n",
       "      <th>0</th>\n",
       "      <td>apartment</td>\n",
       "      <td>Nuevo León</td>\n",
       "      <td>25.721081</td>\n",
       "      <td>-100.345581</td>\n",
       "      <td>72</td>\n",
       "      <td>68421.05</td>\n",
       "    </tr>\n",
       "    <tr>\n",
       "      <th>1</th>\n",
       "      <td>house</td>\n",
       "      <td>Morelos</td>\n",
       "      <td>23.634501</td>\n",
       "      <td>-102.552788</td>\n",
       "      <td>360</td>\n",
       "      <td>278947.37</td>\n",
       "    </tr>\n",
       "    <tr>\n",
       "      <th>2</th>\n",
       "      <td>apartment</td>\n",
       "      <td>Estado de México</td>\n",
       "      <td>19.272040</td>\n",
       "      <td>-99.572013</td>\n",
       "      <td>85</td>\n",
       "      <td>65789.47</td>\n",
       "    </tr>\n",
       "    <tr>\n",
       "      <th>3</th>\n",
       "      <td>house</td>\n",
       "      <td>San Luis Potosí</td>\n",
       "      <td>22.138882</td>\n",
       "      <td>-100.996510</td>\n",
       "      <td>158</td>\n",
       "      <td>111578.95</td>\n",
       "    </tr>\n",
       "    <tr>\n",
       "      <th>4</th>\n",
       "      <td>apartment</td>\n",
       "      <td>Distrito Federal</td>\n",
       "      <td>19.394558</td>\n",
       "      <td>-99.129707</td>\n",
       "      <td>65</td>\n",
       "      <td>39904.74</td>\n",
       "    </tr>\n",
       "  </tbody>\n",
       "</table>\n",
       "</div>"
      ],
      "text/plain": [
       "  property_type             state        lat         lon  area_m2  price_usd\n",
       "0     apartment        Nuevo León  25.721081 -100.345581       72   68421.05\n",
       "1         house           Morelos  23.634501 -102.552788      360  278947.37\n",
       "2     apartment  Estado de México  19.272040  -99.572013       85   65789.47\n",
       "3         house   San Luis Potosí  22.138882 -100.996510      158  111578.95\n",
       "4     apartment  Distrito Federal  19.394558  -99.129707       65   39904.74"
      ]
     },
     "execution_count": 9,
     "metadata": {},
     "output_type": "execute_result"
    }
   ],
   "source": [
    "# Convert from pesos to dollar, and store them in \"price_usd\" column\n",
    "df2_new[\"price_usd\"] = (df2_new[\"price_mxn\"] / 19).round(2)\n",
    "\n",
    "# drop \"price_mxn\"\n",
    "df2_new.drop(columns=[\"price_mxn\"], inplace=True)\n",
    "\n",
    "# view the first few rows\n",
    "df2_new.head()"
   ]
  },
  {
   "cell_type": "markdown",
   "id": "a8759d8c-e6c4-479f-bc93-9dc1383cb341",
   "metadata": {},
   "source": [
    "### c. Clean `df3`"
   ]
  },
  {
   "cell_type": "code",
   "execution_count": 10,
   "id": "4ed7fcf4-c4d7-49e2-a0b9-0f50b2c7d164",
   "metadata": {},
   "outputs": [
    {
     "name": "stdout",
     "output_type": "stream",
     "text": [
      "<class 'pandas.core.frame.DataFrame'>\n",
      "RangeIndex: 700 entries, 0 to 699\n",
      "Data columns (total 5 columns):\n",
      " #   Column                   Non-Null Count  Dtype  \n",
      "---  ------                   --------------  -----  \n",
      " 0   property_type            700 non-null    object \n",
      " 1   place_with_parent_names  700 non-null    object \n",
      " 2   lat-lon                  582 non-null    object \n",
      " 3   area_m2                  700 non-null    int64  \n",
      " 4   price_usd                700 non-null    float64\n",
      "dtypes: float64(1), int64(1), object(3)\n",
      "memory usage: 27.5+ KB\n"
     ]
    }
   ],
   "source": [
    "# view \"df3\" info\n",
    "df3.info()"
   ]
  },
  {
   "cell_type": "code",
   "execution_count": 11,
   "id": "95926467-3b3a-449d-9147-4633216cc604",
   "metadata": {},
   "outputs": [],
   "source": [
    "# Copy \"df3\"\n",
    "df3_new = df3.copy()"
   ]
  },
  {
   "cell_type": "code",
   "execution_count": 12,
   "id": "c6485962-01a2-4346-b976-4eede2d2ed49",
   "metadata": {},
   "outputs": [
    {
     "name": "stdout",
     "output_type": "stream",
     "text": [
      "<class 'pandas.core.frame.DataFrame'>\n",
      "RangeIndex: 582 entries, 0 to 581\n",
      "Data columns (total 6 columns):\n",
      " #   Column                   Non-Null Count  Dtype  \n",
      "---  ------                   --------------  -----  \n",
      " 0   property_type            582 non-null    object \n",
      " 1   place_with_parent_names  582 non-null    object \n",
      " 2   area_m2                  582 non-null    int64  \n",
      " 3   price_usd                582 non-null    float64\n",
      " 4   lat                      582 non-null    float64\n",
      " 5   lon                      582 non-null    float64\n",
      "dtypes: float64(3), int64(1), object(2)\n",
      "memory usage: 27.4+ KB\n"
     ]
    },
    {
     "data": {
      "text/html": [
       "<div>\n",
       "<style scoped>\n",
       "    .dataframe tbody tr th:only-of-type {\n",
       "        vertical-align: middle;\n",
       "    }\n",
       "\n",
       "    .dataframe tbody tr th {\n",
       "        vertical-align: top;\n",
       "    }\n",
       "\n",
       "    .dataframe thead th {\n",
       "        text-align: right;\n",
       "    }\n",
       "</style>\n",
       "<table border=\"1\" class=\"dataframe\">\n",
       "  <thead>\n",
       "    <tr style=\"text-align: right;\">\n",
       "      <th></th>\n",
       "      <th>property_type</th>\n",
       "      <th>place_with_parent_names</th>\n",
       "      <th>area_m2</th>\n",
       "      <th>price_usd</th>\n",
       "      <th>lat</th>\n",
       "      <th>lon</th>\n",
       "    </tr>\n",
       "  </thead>\n",
       "  <tbody>\n",
       "    <tr>\n",
       "      <th>0</th>\n",
       "      <td>apartment</td>\n",
       "      <td>|México|Distrito Federal|Gustavo A. Madero|Acu...</td>\n",
       "      <td>71</td>\n",
       "      <td>48550.59</td>\n",
       "      <td>19.525890</td>\n",
       "      <td>-99.151703</td>\n",
       "    </tr>\n",
       "    <tr>\n",
       "      <th>1</th>\n",
       "      <td>house</td>\n",
       "      <td>|México|Estado de México|Toluca|Metepec|</td>\n",
       "      <td>233</td>\n",
       "      <td>168636.73</td>\n",
       "      <td>19.264054</td>\n",
       "      <td>-99.572753</td>\n",
       "    </tr>\n",
       "    <tr>\n",
       "      <th>2</th>\n",
       "      <td>house</td>\n",
       "      <td>|México|Estado de México|Toluca|Toluca de Lerd...</td>\n",
       "      <td>300</td>\n",
       "      <td>86932.69</td>\n",
       "      <td>19.268629</td>\n",
       "      <td>-99.671722</td>\n",
       "    </tr>\n",
       "    <tr>\n",
       "      <th>3</th>\n",
       "      <td>apartment</td>\n",
       "      <td>|México|Veracruz de Ignacio de la Llave|Veracruz|</td>\n",
       "      <td>84</td>\n",
       "      <td>68508.67</td>\n",
       "      <td>19.511938</td>\n",
       "      <td>-96.871956</td>\n",
       "    </tr>\n",
       "    <tr>\n",
       "      <th>4</th>\n",
       "      <td>house</td>\n",
       "      <td>|México|Jalisco|Guadalajara|</td>\n",
       "      <td>175</td>\n",
       "      <td>102763.00</td>\n",
       "      <td>20.689157</td>\n",
       "      <td>-103.366728</td>\n",
       "    </tr>\n",
       "  </tbody>\n",
       "</table>\n",
       "</div>"
      ],
      "text/plain": [
       "  property_type                            place_with_parent_names  area_m2  \\\n",
       "0     apartment  |México|Distrito Federal|Gustavo A. Madero|Acu...       71   \n",
       "1         house           |México|Estado de México|Toluca|Metepec|      233   \n",
       "2         house  |México|Estado de México|Toluca|Toluca de Lerd...      300   \n",
       "3     apartment  |México|Veracruz de Ignacio de la Llave|Veracruz|       84   \n",
       "4         house                       |México|Jalisco|Guadalajara|      175   \n",
       "\n",
       "   price_usd        lat         lon  \n",
       "0   48550.59  19.525890  -99.151703  \n",
       "1  168636.73  19.264054  -99.572753  \n",
       "2   86932.69  19.268629  -99.671722  \n",
       "3   68508.67  19.511938  -96.871956  \n",
       "4  102763.00  20.689157 -103.366728  "
      ]
     },
     "execution_count": 12,
     "metadata": {},
     "output_type": "execute_result"
    }
   ],
   "source": [
    "# Split the \"lat-lon\" column, and save them into two columns \"lat\" and \"lon\"\n",
    "df3_new[[\"lat\", \"lon\"]]= df3_new[\"lat-lon\"].str.split(\",\", expand=True).astype(\"float\")\n",
    "\n",
    "# Drop the \"lat-lon\" column\n",
    "df3_new.drop(columns=[\"lat-lon\"], inplace=True)\n",
    "\n",
    "# Drop rows with NaNs from the dataframe\n",
    "df3_new.dropna(inplace=True)\n",
    "\n",
    "# Reset the index of dtaframe \n",
    "df3_new.reset_index(drop=True, inplace=True)\n",
    "\n",
    "# View \"df3\" info\n",
    "df3_new.info()\n",
    "\n",
    "# View the first few rows of the \"df3\"\n",
    "df3_new.head()"
   ]
  },
  {
   "cell_type": "markdown",
   "id": "41d246a2-8381-40bf-90e8-fbb42f66d499",
   "metadata": {},
   "source": [
    "Get \"state\" from the \"place_with_parent_names\" column"
   ]
  },
  {
   "cell_type": "code",
   "execution_count": 13,
   "id": "e6b2f2d4-7b7f-480a-ae67-f872fc3035cf",
   "metadata": {},
   "outputs": [
    {
     "data": {
      "text/html": [
       "<div>\n",
       "<style scoped>\n",
       "    .dataframe tbody tr th:only-of-type {\n",
       "        vertical-align: middle;\n",
       "    }\n",
       "\n",
       "    .dataframe tbody tr th {\n",
       "        vertical-align: top;\n",
       "    }\n",
       "\n",
       "    .dataframe thead th {\n",
       "        text-align: right;\n",
       "    }\n",
       "</style>\n",
       "<table border=\"1\" class=\"dataframe\">\n",
       "  <thead>\n",
       "    <tr style=\"text-align: right;\">\n",
       "      <th></th>\n",
       "      <th>property_type</th>\n",
       "      <th>area_m2</th>\n",
       "      <th>price_usd</th>\n",
       "      <th>lat</th>\n",
       "      <th>lon</th>\n",
       "      <th>state</th>\n",
       "    </tr>\n",
       "  </thead>\n",
       "  <tbody>\n",
       "    <tr>\n",
       "      <th>0</th>\n",
       "      <td>apartment</td>\n",
       "      <td>71</td>\n",
       "      <td>48550.59</td>\n",
       "      <td>19.525890</td>\n",
       "      <td>-99.151703</td>\n",
       "      <td>Distrito Federal</td>\n",
       "    </tr>\n",
       "    <tr>\n",
       "      <th>1</th>\n",
       "      <td>house</td>\n",
       "      <td>233</td>\n",
       "      <td>168636.73</td>\n",
       "      <td>19.264054</td>\n",
       "      <td>-99.572753</td>\n",
       "      <td>Estado de México</td>\n",
       "    </tr>\n",
       "    <tr>\n",
       "      <th>2</th>\n",
       "      <td>house</td>\n",
       "      <td>300</td>\n",
       "      <td>86932.69</td>\n",
       "      <td>19.268629</td>\n",
       "      <td>-99.671722</td>\n",
       "      <td>Estado de México</td>\n",
       "    </tr>\n",
       "    <tr>\n",
       "      <th>3</th>\n",
       "      <td>apartment</td>\n",
       "      <td>84</td>\n",
       "      <td>68508.67</td>\n",
       "      <td>19.511938</td>\n",
       "      <td>-96.871956</td>\n",
       "      <td>Veracruz de Ignacio de la Llave</td>\n",
       "    </tr>\n",
       "    <tr>\n",
       "      <th>4</th>\n",
       "      <td>house</td>\n",
       "      <td>175</td>\n",
       "      <td>102763.00</td>\n",
       "      <td>20.689157</td>\n",
       "      <td>-103.366728</td>\n",
       "      <td>Jalisco</td>\n",
       "    </tr>\n",
       "  </tbody>\n",
       "</table>\n",
       "</div>"
      ],
      "text/plain": [
       "  property_type  area_m2  price_usd        lat         lon  \\\n",
       "0     apartment       71   48550.59  19.525890  -99.151703   \n",
       "1         house      233  168636.73  19.264054  -99.572753   \n",
       "2         house      300   86932.69  19.268629  -99.671722   \n",
       "3     apartment       84   68508.67  19.511938  -96.871956   \n",
       "4         house      175  102763.00  20.689157 -103.366728   \n",
       "\n",
       "                             state  \n",
       "0                 Distrito Federal  \n",
       "1                 Estado de México  \n",
       "2                 Estado de México  \n",
       "3  Veracruz de Ignacio de la Llave  \n",
       "4                          Jalisco  "
      ]
     },
     "execution_count": 13,
     "metadata": {},
     "output_type": "execute_result"
    }
   ],
   "source": [
    "# Get state from the \"place_with_parent_names\" column\n",
    "df3_new[\"state\"] = df3_new[\"place_with_parent_names\"].str.split(\"|\", expand=True)[2]\n",
    "\n",
    "# Drop \"place_with_parent_names\" column from \"df3\"\n",
    "df3_new.drop(columns=[\"place_with_parent_names\"], inplace=True)\n",
    "\n",
    "# View the first few rows\n",
    "df3_new.head()"
   ]
  },
  {
   "cell_type": "markdown",
   "id": "e66520f9-e668-4655-842c-fd1c7811664a",
   "metadata": {},
   "source": [
    "## 4. Concatenate Dataframes"
   ]
  },
  {
   "cell_type": "code",
   "execution_count": 14,
   "id": "4669ebd4-70bb-4eff-b0bb-3f8d3868c605",
   "metadata": {},
   "outputs": [
    {
     "name": "stdout",
     "output_type": "stream",
     "text": [
      "Dataframe Shape: (1736, 6)\n",
      "<class 'pandas.core.frame.DataFrame'>\n",
      "Int64Index: 1736 entries, 0 to 581\n",
      "Data columns (total 6 columns):\n",
      " #   Column         Non-Null Count  Dtype  \n",
      "---  ------         --------------  -----  \n",
      " 0   property_type  1736 non-null   object \n",
      " 1   state          1736 non-null   object \n",
      " 2   lat            1736 non-null   float64\n",
      " 3   lon            1736 non-null   float64\n",
      " 4   area_m2        1736 non-null   int64  \n",
      " 5   price_usd      1736 non-null   float64\n",
      "dtypes: float64(3), int64(1), object(2)\n",
      "memory usage: 94.9+ KB\n",
      "None\n"
     ]
    },
    {
     "data": {
      "text/html": [
       "<div>\n",
       "<style scoped>\n",
       "    .dataframe tbody tr th:only-of-type {\n",
       "        vertical-align: middle;\n",
       "    }\n",
       "\n",
       "    .dataframe tbody tr th {\n",
       "        vertical-align: top;\n",
       "    }\n",
       "\n",
       "    .dataframe thead th {\n",
       "        text-align: right;\n",
       "    }\n",
       "</style>\n",
       "<table border=\"1\" class=\"dataframe\">\n",
       "  <thead>\n",
       "    <tr style=\"text-align: right;\">\n",
       "      <th></th>\n",
       "      <th>property_type</th>\n",
       "      <th>state</th>\n",
       "      <th>lat</th>\n",
       "      <th>lon</th>\n",
       "      <th>area_m2</th>\n",
       "      <th>price_usd</th>\n",
       "    </tr>\n",
       "  </thead>\n",
       "  <tbody>\n",
       "    <tr>\n",
       "      <th>0</th>\n",
       "      <td>house</td>\n",
       "      <td>Estado de México</td>\n",
       "      <td>19.560181</td>\n",
       "      <td>-99.233528</td>\n",
       "      <td>150</td>\n",
       "      <td>67965.56</td>\n",
       "    </tr>\n",
       "    <tr>\n",
       "      <th>1</th>\n",
       "      <td>house</td>\n",
       "      <td>Nuevo León</td>\n",
       "      <td>25.688436</td>\n",
       "      <td>-100.198807</td>\n",
       "      <td>186</td>\n",
       "      <td>63223.78</td>\n",
       "    </tr>\n",
       "    <tr>\n",
       "      <th>2</th>\n",
       "      <td>apartment</td>\n",
       "      <td>Guerrero</td>\n",
       "      <td>16.767704</td>\n",
       "      <td>-99.764383</td>\n",
       "      <td>82</td>\n",
       "      <td>84298.37</td>\n",
       "    </tr>\n",
       "    <tr>\n",
       "      <th>3</th>\n",
       "      <td>apartment</td>\n",
       "      <td>Guerrero</td>\n",
       "      <td>16.829782</td>\n",
       "      <td>-99.911012</td>\n",
       "      <td>150</td>\n",
       "      <td>94308.80</td>\n",
       "    </tr>\n",
       "    <tr>\n",
       "      <th>4</th>\n",
       "      <td>house</td>\n",
       "      <td>Yucatán</td>\n",
       "      <td>21.052583</td>\n",
       "      <td>-89.538639</td>\n",
       "      <td>205</td>\n",
       "      <td>105191.37</td>\n",
       "    </tr>\n",
       "  </tbody>\n",
       "</table>\n",
       "</div>"
      ],
      "text/plain": [
       "  property_type             state        lat         lon  area_m2  price_usd\n",
       "0         house  Estado de México  19.560181  -99.233528      150   67965.56\n",
       "1         house        Nuevo León  25.688436 -100.198807      186   63223.78\n",
       "2     apartment          Guerrero  16.767704  -99.764383       82   84298.37\n",
       "3     apartment          Guerrero  16.829782  -99.911012      150   94308.80\n",
       "4         house           Yucatán  21.052583  -89.538639      205  105191.37"
      ]
     },
     "execution_count": 14,
     "metadata": {},
     "output_type": "execute_result"
    }
   ],
   "source": [
    "# Put all the cleaned dataframes in a list\n",
    "dfs_list = [df1_new, df2_new, df3_new]\n",
    "\n",
    "# Concate the dataframes\n",
    "df = pd.concat(dfs_list, axis=0)\n",
    "\n",
    "print(f'Dataframe Shape: {df.shape}')\n",
    "print(df.info())\n",
    "df.head()"
   ]
  },
  {
   "cell_type": "markdown",
   "id": "9dccd1b5-ac26-4a79-bd92-dbb2e762244b",
   "metadata": {},
   "source": [
    "## 5. Save Dataframe"
   ]
  },
  {
   "cell_type": "code",
   "execution_count": 15,
   "id": "9e5a1099-1617-439b-b9ed-ce67e7fcdc97",
   "metadata": {},
   "outputs": [],
   "source": [
    "df.to_csv(\"data/mexico-real-estate-clean.csv\", index=False)"
   ]
  }
 ],
 "metadata": {
  "kernelspec": {
   "display_name": "Python 3 (ipykernel)",
   "language": "python",
   "name": "python3"
  },
  "language_info": {
   "codemirror_mode": {
    "name": "ipython",
    "version": 3
   },
   "file_extension": ".py",
   "mimetype": "text/x-python",
   "name": "python",
   "nbconvert_exporter": "python",
   "pygments_lexer": "ipython3",
   "version": "3.11.3"
  }
 },
 "nbformat": 4,
 "nbformat_minor": 5
}
